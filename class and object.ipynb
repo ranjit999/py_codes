{
 "cells": [
  {
   "cell_type": "markdown",
   "id": "3a8de562",
   "metadata": {},
   "source": [
    "Exercise 1\n",
    "Follow the steps:\n",
    "\n",
    "Create a class, Triangle. Its __init__() method should take self, angle1, angle2, and angle3 as arguments. Make sure to set these appropriately in the body of the __init__()method.\n",
    "Create a variable named number_of_sides and set it equal to 3.\n",
    "Create a method named check_angles. The sum of a triangle's three angles is It should return True if the sum of self.angle1, self.angle2, and self.angle3 is equal 180, and False otherwise.\n",
    "Create a variable named my_triangle and set it equal to a new instance of your Triangle class. Pass it three angles that sum to 180 (e.g. 90, 30, 60).\n",
    "Print out my_triangle.number_of_sides and print out my_triangle.check_angles()."
   ]
  },
  {
   "cell_type": "code",
   "execution_count": 19,
   "id": "daf4648e",
   "metadata": {},
   "outputs": [
    {
     "data": {
      "text/plain": [
       "True"
      ]
     },
     "execution_count": 19,
     "metadata": {},
     "output_type": "execute_result"
    }
   ],
   "source": [
    "class Triangle :\n",
    "    def __init__(self,angle1,angle2,angle3):\n",
    "        self.angle1=angle1\n",
    "        self.angle2=angle2\n",
    "        self.angle3=angle3\n",
    "    #no_of_sides=3\n",
    "   # def no_of_sides(self):\n",
    "      #  print(self.no_of_sides)\n",
    "    \n",
    "    def check_angles(self):\n",
    "        if self.angle1+self.angle2+self.angle3==180:\n",
    "            return True\n",
    "        else:\n",
    "            return False\n",
    "My_Triangle=Triangle(30,60,90)\n",
    "My_Triangle.check_angles()\n",
    "#My_Triangle.no_of_sides()\n",
    "\n",
    "\n"
   ]
  },
  {
   "cell_type": "markdown",
   "id": "551ac95a",
   "metadata": {},
   "source": [
    "Define a class called Songs, it will show the lyrics of a song. Its __init__() method should have two arguments:selfanf lyrics.lyricsis a list. Inside your class create a method called sing_me_a_songthat prints each element of lyricson his own line. Define a varible:\n",
    "\n",
    "happy_bday = Song([\"May god bless you, \",\n",
    "                   \"Have a sunshine on you,\",\n",
    "                   \"Happy Birthday to you !\"])\n",
    "Call the sing_me_songmehod on this variable."
   ]
  },
  {
   "cell_type": "code",
   "execution_count": 17,
   "id": "f30e77ab",
   "metadata": {},
   "outputs": [
    {
     "name": "stdout",
     "output_type": "stream",
     "text": [
      "['May god bless you, ', 'Have a sunshine on you,', 'Happy Birthday to you !']\n"
     ]
    }
   ],
   "source": [
    "class Song:\n",
    "    def __init__(self,lyrics):\n",
    "        self.lyrics=lyrics\n",
    "    def sing_me_a_song(self):\n",
    "        print(self.lyrics)\n",
    "Happy_Birthday=Song([\"May god bless you, \", \n",
    "                     \"Have a sunshine on you,\", \n",
    "                     \"Happy Birthday to you !\"])\n",
    "Happy_Birthday.sing_me_a_song()"
   ]
  },
  {
   "cell_type": "markdown",
   "id": "cbd287cb",
   "metadata": {},
   "source": [
    "Define a class called Lunch.Its __init__() method should have two arguments:selfanf menu.Where menu is a string. Add a method called menu_price.It will involve a ifstatement:\n",
    "\n",
    "if \"menu 1\" print \"Your choice:\", menu, \"Price 12.00\", if \"menu 2\" print \"Your choice:\", menu, \"Price 13.40\", else print \"Error in menu\".\n",
    "To check if it works define: Paul=Lunch(\"menu 1\") and call Paul.menu_price()."
   ]
  },
  {
   "cell_type": "code",
   "execution_count": 28,
   "id": "504de0cd",
   "metadata": {},
   "outputs": [
    {
     "name": "stdout",
     "output_type": "stream",
     "text": [
      "pizza menu1 Price=12\n"
     ]
    }
   ],
   "source": [
    "class Lunch:\n",
    "    def __init__(self,menu):\n",
    "        self.menu=menu\n",
    "    def menu_price(self):\n",
    "        if self.menu==\"menu1\":\n",
    "            print(\"pizza\",self.menu,\"Price=12\")\n",
    "        elif self.menu==\"menu2\":\n",
    "            print(\"burger\",self.menu,\"Price=13.40\")\n",
    "        else:\n",
    "            print(\"error in menu\")\n",
    "paul=Lunch(\"menu1\")\n",
    "paul.menu_price()"
   ]
  },
  {
   "cell_type": "markdown",
   "id": "8faf70be",
   "metadata": {},
   "source": [
    "Define a Point3D class that inherits from object Inside the Point3D class, define an __init__() function that accepts self, x, y, and z, and assigns these numbers to the member variables self.x,self.y,self.z. Define a __repr__() method that returns \"(%d, %d, %d)\" % (self.x, self.y, self.z). This tells Python to represent this object in the following format: (x, y, z). Outside the class definition, create a variable named my_point containing a new instance of Point3D with x=1, y=2, and z=3. Finally, print my_point."
   ]
  },
  {
   "cell_type": "code",
   "execution_count": null,
   "id": "b725d492",
   "metadata": {},
   "outputs": [],
   "source": []
  }
 ],
 "metadata": {
  "kernelspec": {
   "display_name": "Python 3 (ipykernel)",
   "language": "python",
   "name": "python3"
  },
  "language_info": {
   "codemirror_mode": {
    "name": "ipython",
    "version": 3
   },
   "file_extension": ".py",
   "mimetype": "text/x-python",
   "name": "python",
   "nbconvert_exporter": "python",
   "pygments_lexer": "ipython3",
   "version": "3.9.7"
  }
 },
 "nbformat": 4,
 "nbformat_minor": 5
}
