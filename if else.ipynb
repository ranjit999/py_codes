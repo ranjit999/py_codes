{
 "cells": [
  {
   "cell_type": "markdown",
   "id": "553c32a7",
   "metadata": {},
   "source": [
    "## Assignment_2\n",
    "1. Write a program to display \"Hello\" if a number entered by user is a multiple of five , otherwise print \"Bye\"."
   ]
  },
  {
   "cell_type": "code",
   "execution_count": 1,
   "id": "cab039fd",
   "metadata": {},
   "outputs": [
    {
     "name": "stdout",
     "output_type": "stream",
     "text": [
      "enter  NO.10\n",
      "hello\n"
     ]
    }
   ],
   "source": [
    "num= int(input(\"enter  NO.\"))\n",
    "if (num%5==0):\n",
    "    print(\"hello\")\n",
    "else:\n",
    "    print(\"bye\")"
   ]
  },
  {
   "cell_type": "markdown",
   "id": "47bd1695",
   "metadata": {},
   "source": [
    "2. Write a program to check whether a number is divisible by 7 or not.\n"
   ]
  },
  {
   "cell_type": "code",
   "execution_count": 2,
   "id": "3b4d4517",
   "metadata": {},
   "outputs": [
    {
     "name": "stdout",
     "output_type": "stream",
     "text": [
      "enter a no.15\n",
      "Not divisible by 7\n"
     ]
    }
   ],
   "source": [
    "num1= int(input(\"enter a no.\"))\n",
    "if(num1%7==0):\n",
    "    print(\"Divisible by 7\")\n",
    "else:\n",
    "    print(\"Not divisible by 7\")"
   ]
  },
  {
   "cell_type": "markdown",
   "id": "6385c9b1",
   "metadata": {},
   "source": [
    "3. Write a program to check whether a person is eligible for voting or not. (accept age from user)"
   ]
  },
  {
   "cell_type": "code",
   "execution_count": 3,
   "id": "70422035",
   "metadata": {
    "scrolled": true
   },
   "outputs": [
    {
     "name": "stdout",
     "output_type": "stream",
     "text": [
      "enter age 17\n",
      "no vote\n"
     ]
    }
   ],
   "source": [
    "age = int(input('enter age '))\n",
    "if (age >= 18) :\n",
    "    print('can vote')\n",
    "else:\n",
    "    print(\"no vote\")"
   ]
  },
  {
   "cell_type": "markdown",
   "id": "d75ba09c",
   "metadata": {},
   "source": [
    "4. Write a program to check whether a number entered by user is even or odd."
   ]
  },
  {
   "cell_type": "code",
   "execution_count": 5,
   "id": "a4f8328a",
   "metadata": {},
   "outputs": [
    {
     "name": "stdout",
     "output_type": "stream",
     "text": [
      "enter a no.5\n",
      "odd\n"
     ]
    }
   ],
   "source": [
    "num3= int(input(\"enter a no.\"))\n",
    "if(num3%2==0):\n",
    "    print(\"even\")\n",
    "else:\n",
    "    print(\"odd\")"
   ]
  },
  {
   "cell_type": "markdown",
   "id": "94d2f190",
   "metadata": {},
   "source": [
    "5. Write a program to calculate the electricity bill (accept number of unit from user) according to the following criteria : Unit Price\n",
    "First 100 units no charge Next 100 units Rs 5 per unit After 200 units Rs 10 per unit (For example if input unit is 350 than total bill amount is Rs2000)"
   ]
  },
  {
   "cell_type": "code",
   "execution_count": 10,
   "id": "002dcaa8",
   "metadata": {},
   "outputs": [
    {
     "name": "stdout",
     "output_type": "stream",
     "text": [
      "Enter unit400\n",
      "2500\n"
     ]
    }
   ],
   "source": [
    "unit= int(input(\"Enter unit\"))\n",
    "if(unit<=100):\n",
    "    amount=unit*0\n",
    "elif unit >= 101 and unit <= 200:\n",
    "    amount =((unit - 100) * 5)\n",
    "elif unit >= 201 :\n",
    "    amount =500 + ((unit - 200) * 10)\n",
    "print(amount)\n",
    "    "
   ]
  },
  {
   "cell_type": "markdown",
   "id": "93b69f92",
   "metadata": {},
   "source": [
    "6. Write a program to display the last digit of a number. (hint : any number % 10 will return the last digit)"
   ]
  },
  {
   "cell_type": "code",
   "execution_count": 1,
   "id": "89d0dcc8",
   "metadata": {},
   "outputs": [
    {
     "name": "stdout",
     "output_type": "stream",
     "text": [
      "enter a no.2345\n",
      "no. 2345\n",
      "last_digit 5\n"
     ]
    }
   ],
   "source": [
    "num4= int(input(\"enter a no.\"))\n",
    "last_digit = num4%10\n",
    "print(\"no.\",num4)\n",
    "print(\"last_digit\",last_digit)\n"
   ]
  },
  {
   "cell_type": "markdown",
   "id": "f58aaef7",
   "metadata": {},
   "source": [
    "7. Write a program to accept percentage from the user and display the grade according to the following criteria:\n",
    "\n",
    "  Marks                                    \n",
    "  \n",
    "  > 90    A                                     \n",
    "  > 80 and <= 90   B\n",
    "  >= 60 and <= 80    C\n",
    "  below 60  D"
   ]
  },
  {
   "cell_type": "code",
   "execution_count": 4,
   "id": "185e7376",
   "metadata": {},
   "outputs": [
    {
     "name": "stdout",
     "output_type": "stream",
     "text": [
      "enter marks.50\n",
      "grade D\n"
     ]
    }
   ],
   "source": [
    "marks= int(input(\"enter marks.\"))\n",
    "if(marks>=90):\n",
    "    print(\"Grade A\")\n",
    "elif(marks>=80 and marks<90):\n",
    "    print(\"Grade B\")\n",
    "elif(marks>=60 and marks<80):\n",
    "    print(\"GradeC\")    \n",
    "else:\n",
    "    print(\"grade D\")"
   ]
  },
  {
   "cell_type": "markdown",
   "id": "487b0efe",
   "metadata": {},
   "source": [
    "8. Write a program to accept the cost price of a bike and display the road tax to be paid according to the following criteria :\n",
    "\n",
    " Cost price (in Rs)        Tax\n",
    " \n",
    " > 100000                                                  15 %\n",
    " \n",
    " > 50000 and <= 100000                          10%\n",
    " \n",
    " <= 50000                                                  5%\n"
   ]
  },
  {
   "cell_type": "code",
   "execution_count": 11,
   "id": "0378443a",
   "metadata": {},
   "outputs": [
    {
     "name": "stdout",
     "output_type": "stream",
     "text": [
      "Enter cost 75000\n",
      "5000.0\n",
      "80000.0\n"
     ]
    }
   ],
   "source": [
    "cost= int(input(\"Enter cost \"))\n",
    "if(cost<=50000):\n",
    "    tax= (cost * 5 )/100\n",
    "\n",
    "elif (cost >=50001 and cost <= 100000):\n",
    "    tax =2500+ (((cost - 50000) * 10)/100)\n",
    "elif cost >= 100000:\n",
    "    tax =5000 + ((cost - 10000) * 15)\n",
    "print(tax)\n",
    "total= cost + tax\n",
    "print(total)"
   ]
  },
  {
   "cell_type": "markdown",
   "id": "0f0aa17a",
   "metadata": {},
   "source": [
    "9. Write a program to check whether an years is leap year or not."
   ]
  },
  {
   "cell_type": "code",
   "execution_count": 19,
   "id": "dab721e9",
   "metadata": {},
   "outputs": [
    {
     "name": "stdout",
     "output_type": "stream",
     "text": [
      "Enter a year1500\n",
      "not a leap year\n"
     ]
    }
   ],
   "source": [
    "year = int(input(\"Enter a year\"))\n",
    "if (year%400 ==0 and year%100 == 0):\n",
    "    print(\"leap year\")\n",
    "elif(year % 100 == 0):\n",
    "    print(\"not a leap year\")\n",
    "elif (year%4 == 0):\n",
    "    print(\"leap year\")\n",
    "else:\n",
    "    print(\"wrong input\")\n"
   ]
  },
  {
   "cell_type": "markdown",
   "id": "40cdca0e",
   "metadata": {},
   "source": [
    "10. Write a program to accept a number from 1 to 7 and display the name of the day like 1 for Sunday , 2 for Monday and so on."
   ]
  },
  {
   "cell_type": "code",
   "execution_count": 15,
   "id": "36e2b81c",
   "metadata": {},
   "outputs": [
    {
     "name": "stdout",
     "output_type": "stream",
     "text": [
      "Enter number (1-7)  1\n",
      "\n",
      "sunday\n"
     ]
    }
   ],
   "source": [
    "day = int(input(\"Enter number (1-7)  \"))\n",
    "if (day == 1) :\n",
    "    print(\"\\nsunday\")\n",
    "elif (day == 2) :\n",
    "    print(\"\\nmonday\")\n",
    "elif(day == 3) :\n",
    "    print(\"\\ntuesday\")\n",
    "elif(day == 4) :\n",
    "    print(\"\\nwednesday\")\n",
    "elif(day == 5) :\n",
    "    print(\"\\nthursday\")\n",
    "elif(day == 6) :\n",
    "    print(\"\\nfriday\")\n",
    "elif (day == 7) :\n",
    "    print(\"\\nsaturday\")\n",
    "else :\n",
    "    print(\"\\nenter  number between 1-7.\")"
   ]
  },
  {
   "cell_type": "markdown",
   "id": "64b12d39",
   "metadata": {},
   "source": [
    "11. Accept any city from the user and display monument of that city.\n",
    "\n",
    "          City                                 Monument\n",
    "          \n",
    "          Delhi                               Red Fort\n",
    "          \n",
    "          Agra                                Taj Mahal\n",
    "          \n",
    "          Jaipur                              Jal Mahal\n"
   ]
  },
  {
   "cell_type": "code",
   "execution_count": 21,
   "id": "4c423ed3",
   "metadata": {},
   "outputs": [
    {
     "name": "stdout",
     "output_type": "stream",
     "text": [
      "Enter city  Agra\n",
      " Monument Taj Mahal\n"
     ]
    }
   ],
   "source": [
    "city = (input(\"Enter city  \"))\n",
    "if (city == \"Delhi\" ) :\n",
    "    print(\" Monument Red Fort\")\n",
    "elif (city ==  \"Agra\" ) :\n",
    "    print(\" Monument Taj Mahal\")\n",
    "elif(city == \"Jaipur\" ) :\n",
    "    print(\" Monument Jal Mahal\")\n"
   ]
  },
  {
   "cell_type": "markdown",
   "id": "f814f992",
   "metadata": {},
   "source": [
    "12. Write a program to check whether a person is senior citizen or not."
   ]
  },
  {
   "cell_type": "code",
   "execution_count": 22,
   "id": "7a8941d2",
   "metadata": {},
   "outputs": [
    {
     "name": "stdout",
     "output_type": "stream",
     "text": [
      "enter age 65\n",
      "senior citizen\n"
     ]
    }
   ],
   "source": [
    "age = int(input('enter age '))\n",
    "if (age >= 60) :\n",
    "    print('senior citizen')\n",
    "else:\n",
    "    print(\"not a senior citizen\")"
   ]
  },
  {
   "cell_type": "markdown",
   "id": "2553e543",
   "metadata": {},
   "source": [
    "13. Write a program to whether a number (accepted from user) is divisible by 2 and 3 both.\n",
    "\n"
   ]
  },
  {
   "cell_type": "code",
   "execution_count": 23,
   "id": "b9822d45",
   "metadata": {},
   "outputs": [
    {
     "name": "stdout",
     "output_type": "stream",
     "text": [
      "enter a no.6\n",
      "no. divisible by 2 & 3\n"
     ]
    }
   ],
   "source": [
    "num5= int(input(\"enter a no.\"))\n",
    "if(num5%2==0 and num5%3==0):\n",
    "    print(\"no. divisible by 2 & 3\")\n",
    "else:\n",
    "    print(\"not divisible 2 & 3 \")"
   ]
  },
  {
   "cell_type": "markdown",
   "id": "0f4a8d87",
   "metadata": {},
   "source": [
    "14. Write a program to check whether a number (accepted from user) is positive or negative.\n"
   ]
  },
  {
   "cell_type": "code",
   "execution_count": 18,
   "id": "1f0e0c42",
   "metadata": {},
   "outputs": [
    {
     "name": "stdout",
     "output_type": "stream",
     "text": [
      "enter a no.-5\n",
      "no. is negative\n"
     ]
    }
   ],
   "source": [
    "num6= int(input(\"enter a no.\"))\n",
    "if(num6<0) : \n",
    "    print(\"no. is negative\")\n",
    "else:\n",
    "    print(\"no. is positive \")"
   ]
  },
  {
   "cell_type": "markdown",
   "id": "4c8b7b40",
   "metadata": {},
   "source": [
    "15. Accept the age of 4 people and display the youngest one?"
   ]
  },
  {
   "cell_type": "code",
   "execution_count": 15,
   "id": "2b32fd67",
   "metadata": {},
   "outputs": [
    {
     "name": "stdout",
     "output_type": "stream",
     "text": [
      "enter age of 1  23\n",
      "enter age of 2  24\n",
      "enter age of 3  25\n",
      "enter age of 4  26\n",
      "age of younger one 23\n"
     ]
    }
   ],
   "source": [
    "m1= int(input(\"enter age of 1  \"))\n",
    "m2= int(input(\"enter age of 2  \"))\n",
    "m3= int(input(\"enter age of 3  \"))\n",
    "m4= int(input(\"enter age of 4  \"))\n",
    "if (m1<m2 and m1<m3 and m1<m4 ):\n",
    "    print(\"age of younger one\", m1)\n",
    "elif (m2<m1 and m2<m3 and m2<m4 ):\n",
    "    print(\"age of younger one\", m2)\n",
    "elif (m3<m1 and m3<m2 and m3<m4 ):\n",
    "    print(\"age of younger one\", m3)\n",
    "elif (m4<m1 and m4<m2 and m4<m3 ):\n",
    "    print(\"age of younger one\", m4)"
   ]
  },
  {
   "cell_type": "markdown",
   "id": "c25146fa",
   "metadata": {},
   "source": [
    "16.Write a program to check a character is vowel or not."
   ]
  },
  {
   "cell_type": "code",
   "execution_count": 14,
   "id": "f94d504a",
   "metadata": {},
   "outputs": [
    {
     "name": "stdout",
     "output_type": "stream",
     "text": [
      "Enter the characterk\n",
      "k is consonant\n"
     ]
    }
   ],
   "source": [
    "ch = str(input('Enter the character'))\n",
    "if(ch == 'a' or ch == 'i' or ch == 'e' or ch == 'o' or ch == 'u'):\n",
    "    print(ch, 'is vowel')\n",
    "else:\n",
    "    print(ch'is consonant')\n"
   ]
  },
  {
   "cell_type": "markdown",
   "id": "0353563b",
   "metadata": {},
   "source": [
    "17. Accept the following from the user and calculate the percentage of class attended:\n",
    "a. Total number of working days\n",
    "\n",
    "b. Total number of days for absent"
   ]
  },
  {
   "cell_type": "code",
   "execution_count": 4,
   "id": "38b1a9b7",
   "metadata": {},
   "outputs": [
    {
     "name": "stdout",
     "output_type": "stream",
     "text": [
      " total no. of working days100\n",
      " total no. of absent days65\n",
      "not eligible to seat in exam\n"
     ]
    }
   ],
   "source": [
    "working_day= int(input(\" total no. of working days \"))\n",
    "absent_day= int(input(\" total no. of absent days \"))\n",
    "percentage= (absent_day/working_day)*100\n",
    "if(percentage<=75):\n",
    "    print(\"not eligible to seat in exam\")\n",
    "else:\n",
    "    print(\"eligible to seat in exam\")"
   ]
  },
  {
   "cell_type": "markdown",
   "id": "8dafe6a4",
   "metadata": {},
   "source": [
    "18. Accept three sides of a triangle and check whether it is an equilateral, isosceles or scalene triangle.\n",
    "Note :\n",
    "\n",
    "An equilateral triangle is a triangle in which all three sides are equal.\n",
    "\n",
    "A scalene triangle is a triangle that has three unequal sides.\n",
    "\n",
    "An isosceles triangle is a triangle with (at least) two equal sides."
   ]
  },
  {
   "cell_type": "code",
   "execution_count": 6,
   "id": "02c7e373",
   "metadata": {},
   "outputs": [
    {
     "name": "stdout",
     "output_type": "stream",
     "text": [
      "side a 2\n",
      "side b 2\n",
      "side c 2\n",
      "it is Equilateral triangle\n"
     ]
    }
   ],
   "source": [
    "a= int(input(\"side a \"))\n",
    "b= int(input(\"side b \"))\n",
    "c= int(input(\"side c \"))\n",
    "if(a==b==c):\n",
    "    print(\"it is Equilateral triangle\")\n",
    "elif(a!=b!=c):\n",
    "    print(\"it is scalene triangle\")\n",
    "elif(a==b!=c or a!=b==c or a!=c==b):\n",
    "    print(\"it is Equilateral triangle\")\n",
    "else:\n",
    "    print(\"wrong input\")"
   ]
  },
  {
   "cell_type": "markdown",
   "id": "90ea1a7b",
   "metadata": {},
   "source": [
    "19. Accept the age, sex (‘M’, ‘F’), number of days and display the wages accordingly\n",
    "Age Sex Wage/day"
   ]
  },
  {
   "cell_type": "code",
   "execution_count": 21,
   "id": "76166884",
   "metadata": {},
   "outputs": [
    {
     "name": "stdout",
     "output_type": "stream",
     "text": [
      "Enter the age24\n",
      "Enter the genderm\n",
      "Enter the working days 24\n",
      "wage is 16800\n"
     ]
    }
   ],
   "source": [
    "age = int(input(\"Enter the age\"))\n",
    "gen = input(\"Enter the gender\")\n",
    "c = int(input(\"Enter the working days \"))\n",
    "\n",
    "if gen == 'm' and age in range(18, 30):\n",
    "    sal = 700\n",
    "    wage = sal * c\n",
    "    print(\"wage is\", wage )\n",
    "elif gen == 'm' and age in range(30, 41):\n",
    "    sal = 800\n",
    "    wage = sal * c\n",
    "    print(\"wage is\", wage )\n",
    "elif gen == 'f' and age in range(18, 30):\n",
    "    sal = 750\n",
    "    wage = sal * c\n",
    "    print(\"wage is\", wage )\n",
    "elif gen == 'f' and age in range(30, 41):\n",
    "    sal = 850\n",
    "    wage = sal * c\n",
    "    print(\"wage is\", wage )\n"
   ]
  },
  {
   "cell_type": "markdown",
   "id": "234568b8",
   "metadata": {},
   "source": [
    "20. Accept three sides of triangle and check whether the triangle is possible or not.\n",
    "(triangle is possible only when sum of any two sides is greater than 3rd side)"
   ]
  },
  {
   "cell_type": "code",
   "execution_count": 20,
   "id": "d268b433",
   "metadata": {},
   "outputs": [
    {
     "name": "stdout",
     "output_type": "stream",
     "text": [
      "side a 10\n",
      "side b 20\n",
      "side c 30\n",
      "Triangle is possible\n"
     ]
    }
   ],
   "source": [
    "a= int(input(\"side a \"))\n",
    "b= int(input(\"side b \"))\n",
    "c= int(input(\"side c \"))\n",
    "if((a+b)>c or (b+c)>a or (c+a)>b):\n",
    "    print(\"Triangle is possible\")\n",
    "else:\n",
    "    print(\"not possible\")"
   ]
  },
  {
   "cell_type": "code",
   "execution_count": null,
   "id": "2b7e5e10",
   "metadata": {},
   "outputs": [],
   "source": []
  }
 ],
 "metadata": {
  "kernelspec": {
   "display_name": "Python 3 (ipykernel)",
   "language": "python",
   "name": "python3"
  },
  "language_info": {
   "codemirror_mode": {
    "name": "ipython",
    "version": 3
   },
   "file_extension": ".py",
   "mimetype": "text/x-python",
   "name": "python",
   "nbconvert_exporter": "python",
   "pygments_lexer": "ipython3",
   "version": "3.9.7"
  }
 },
 "nbformat": 4,
 "nbformat_minor": 5
}
