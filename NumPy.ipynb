{
 "cells": [
  {
   "cell_type": "code",
   "execution_count": 1,
   "id": "e754c6fc",
   "metadata": {},
   "outputs": [],
   "source": [
    "import numpy as np"
   ]
  },
  {
   "cell_type": "code",
   "execution_count": 21,
   "id": "f5ca353b",
   "metadata": {},
   "outputs": [
    {
     "name": "stdout",
     "output_type": "stream",
     "text": [
      "[list([12, 23, 34]) list([45, 56]) list([67, 78, 89, 100])]\n",
      "3\n"
     ]
    },
    {
     "name": "stderr",
     "output_type": "stream",
     "text": [
      "C:\\Users\\adhav\\AppData\\Local\\Temp/ipykernel_15880/1110586012.py:1: VisibleDeprecationWarning: Creating an ndarray from ragged nested sequences (which is a list-or-tuple of lists-or-tuples-or ndarrays with different lengths or shapes) is deprecated. If you meant to do this, you must specify 'dtype=object' when creating the ndarray.\n",
      "  m=np.array([[12,23,34],[45,56],[67,78,89,100]])\n"
     ]
    }
   ],
   "source": [
    "m=np.array([[12,23,34],[45,56],[67,78,89,100]])\n",
    "print(m)\n",
    "b=m.size\n",
    "print(b)"
   ]
  },
  {
   "cell_type": "code",
   "execution_count": 26,
   "id": "44a44f55",
   "metadata": {},
   "outputs": [
    {
     "name": "stdout",
     "output_type": "stream",
     "text": [
      "[ 1  8 15 22 29 36 43 50 57 64 71 78 85 92 99]\n"
     ]
    }
   ],
   "source": [
    "c=np.arange(1,100,7)\n",
    "print(c)"
   ]
  },
  {
   "cell_type": "code",
   "execution_count": 36,
   "id": "d8fa954f",
   "metadata": {},
   "outputs": [
    {
     "name": "stdout",
     "output_type": "stream",
     "text": [
      "[[ 1  8 15]\n",
      " [22 29 36]\n",
      " [43 50 57]\n",
      " [64 71 78]\n",
      " [85 92 99]]\n"
     ]
    }
   ],
   "source": [
    "d=c.reshape(5,3)\n",
    "print(d)"
   ]
  },
  {
   "cell_type": "code",
   "execution_count": 39,
   "id": "34d65f6c",
   "metadata": {},
   "outputs": [
    {
     "name": "stdout",
     "output_type": "stream",
     "text": [
      "[]\n"
     ]
    }
   ],
   "source": [
    "c1=d[2:1,2:4]\n",
    "print(c1)"
   ]
  },
  {
   "cell_type": "code",
   "execution_count": 40,
   "id": "23efc2c7",
   "metadata": {},
   "outputs": [],
   "source": [
    "from numpy import random"
   ]
  },
  {
   "cell_type": "code",
   "execution_count": 42,
   "id": "1493702a",
   "metadata": {},
   "outputs": [
    {
     "name": "stdout",
     "output_type": "stream",
     "text": [
      "78\n"
     ]
    }
   ],
   "source": [
    "a=random.randint(100)\n",
    "print(a)"
   ]
  },
  {
   "cell_type": "code",
   "execution_count": 43,
   "id": "a34523fd",
   "metadata": {},
   "outputs": [
    {
     "name": "stdout",
     "output_type": "stream",
     "text": [
      "[37 40  3 63 19  3 60 22 69 79]\n"
     ]
    }
   ],
   "source": [
    "ab=random.randint(100,size=10)\n",
    "print(ab)"
   ]
  },
  {
   "cell_type": "code",
   "execution_count": 45,
   "id": "640caefb",
   "metadata": {},
   "outputs": [
    {
     "name": "stdout",
     "output_type": "stream",
     "text": [
      "[[37 80  0 64  3]\n",
      " [49 69 18 48  6]\n",
      " [38 97 22 83 39]]\n"
     ]
    }
   ],
   "source": [
    "d=random.randint(100,size=(3,5))\n",
    "print(d)"
   ]
  },
  {
   "cell_type": "code",
   "execution_count": 52,
   "id": "9d3862b7",
   "metadata": {},
   "outputs": [
    {
     "name": "stdout",
     "output_type": "stream",
     "text": [
      "amu\n"
     ]
    }
   ],
   "source": [
    "e=random.choice([\"swappy\",\"amu\",\"shreyu\",\"ajju\"])\n",
    "print(e)\n",
    "\n"
   ]
  },
  {
   "cell_type": "code",
   "execution_count": 53,
   "id": "254cbf45",
   "metadata": {},
   "outputs": [
    {
     "name": "stdout",
     "output_type": "stream",
     "text": [
      "0.3633552186781872\n"
     ]
    }
   ],
   "source": [
    "f=random.rand()\n",
    "print(f)"
   ]
  },
  {
   "cell_type": "code",
   "execution_count": 54,
   "id": "7435829d",
   "metadata": {},
   "outputs": [
    {
     "name": "stdout",
     "output_type": "stream",
     "text": [
      "[0.73019088 0.09435561 0.83696951 0.78138755 0.79565952 0.60475703\n",
      " 0.41124533 0.07696463 0.27840621 0.78228228]\n"
     ]
    }
   ],
   "source": [
    "g=random.rand(10)\n",
    "print(g)"
   ]
  },
  {
   "cell_type": "code",
   "execution_count": 55,
   "id": "a5cdbbd4",
   "metadata": {},
   "outputs": [
    {
     "name": "stdout",
     "output_type": "stream",
     "text": [
      "[[0.42092979 0.99278489 0.04001976 0.64806685 0.22274566]\n",
      " [0.52456851 0.71891541 0.58471788 0.69248469 0.44976953]\n",
      " [0.64085031 0.51664544 0.7019199  0.34242335 0.63158838]]\n"
     ]
    }
   ],
   "source": [
    "h=random.rand(3,5)\n",
    "print(h)"
   ]
  },
  {
   "cell_type": "code",
   "execution_count": 64,
   "id": "cd81af90",
   "metadata": {},
   "outputs": [
    {
     "name": "stdout",
     "output_type": "stream",
     "text": [
      "[0. 0. 0. 0. 0. 0. 0. 0. 0.]\n"
     ]
    }
   ],
   "source": [
    "i=np.zeros(3*3)\n",
    "print(i)"
   ]
  },
  {
   "cell_type": "code",
   "execution_count": 66,
   "id": "3edb64b5",
   "metadata": {},
   "outputs": [
    {
     "name": "stdout",
     "output_type": "stream",
     "text": [
      "[1. 1. 1.]\n"
     ]
    }
   ],
   "source": [
    "j=np.ones(3,)\n",
    "print(j)"
   ]
  },
  {
   "cell_type": "code",
   "execution_count": null,
   "id": "3ea2ce12",
   "metadata": {},
   "outputs": [],
   "source": []
  }
 ],
 "metadata": {
  "kernelspec": {
   "display_name": "Python 3 (ipykernel)",
   "language": "python",
   "name": "python3"
  },
  "language_info": {
   "codemirror_mode": {
    "name": "ipython",
    "version": 3
   },
   "file_extension": ".py",
   "mimetype": "text/x-python",
   "name": "python",
   "nbconvert_exporter": "python",
   "pygments_lexer": "ipython3",
   "version": "3.9.7"
  }
 },
 "nbformat": 4,
 "nbformat_minor": 5
}
