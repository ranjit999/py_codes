{
 "cells": [
  {
   "cell_type": "code",
   "execution_count": 5,
   "id": "aa26d2ce",
   "metadata": {},
   "outputs": [],
   "source": [
    "import re\n",
    "import pandas as pd"
   ]
  },
  {
   "cell_type": "code",
   "execution_count": 5,
   "id": "e1240b81",
   "metadata": {},
   "outputs": [
    {
     "name": "stdout",
     "output_type": "stream",
     "text": [
      "                     name     contact  salary\n",
      "0         KUNAL CHAUDHARI  9082961701   12000\n",
      "1   MAHESH BHAGIRATH KALE  9082961073   14000\n",
      "2         SWAMISH S. NAIK  9819445492   20000\n",
      "3        ASHUTOSH VISPUTE  7738816022   50000\n",
      "4      SAURABH S. AGRAWAL  9673956628   60000\n",
      "5      SWAPNIL P. GAONKAR  9022695479   45000\n",
      "6       GAURI C. KULKARNI  9158092333   23004\n",
      "7       SHRADDHA R. VARMA  8286509472   56900\n",
      "8              JAY GOKHRU  9757434340   78900\n",
      "9          ARIHANTI GAWDE  8879698018   78653\n",
      "10        VIJAYA NARVEKAR  7709114852   49990\n",
      "11        PANKAJ R. YADAV  8356931110   23000\n"
     ]
    }
   ],
   "source": [
    "df=pd.read_csv(r\"C:\\Users\\adhav\\Python DBDA/bookdata.csv\")\n",
    "print(df)"
   ]
  },
  {
   "cell_type": "code",
   "execution_count": 6,
   "id": "48c80f41",
   "metadata": {},
   "outputs": [
    {
     "name": "stdout",
     "output_type": "stream",
     "text": [
      "yykyd\n",
      "in-Correct\n"
     ]
    }
   ],
   "source": [
    "ui=input()\n",
    "p='\\d'\n",
    "if re.search(p,ui):\n",
    "    print(\"Correct\")\n",
    "else:\n",
    "    print(\"in-Correct\")"
   ]
  },
  {
   "cell_type": "code",
   "execution_count": 7,
   "id": "d429c330",
   "metadata": {},
   "outputs": [
    {
     "name": "stdout",
     "output_type": "stream",
     "text": [
      "gjfyjfh213 7564\n",
      "['g', 'j', 'f', 'y', 'j', 'f', 'h', '2', '1', '3', ' ', '7', '5', '6', '4']\n"
     ]
    }
   ],
   "source": [
    "ui=input()\n",
    "p=\"\\d\"\n",
    "l1=[]\n",
    "for p in ui:\n",
    "    if re.search(p,ui):\n",
    "        l1.append(p)\n",
    "print(l1)\n",
    "        "
   ]
  },
  {
   "cell_type": "code",
   "execution_count": 9,
   "id": "e881ba20",
   "metadata": {},
   "outputs": [
    {
     "name": "stdout",
     "output_type": "stream",
     "text": [
      "Enter data to test:123\n",
      "in-Correct\n"
     ]
    }
   ],
   "source": [
    "userinput=input(\"Enter data to test:\")\n",
    "p='\\D'\n",
    "if re.search(p,userinput):\n",
    "    print(\"Correct\")\n",
    "else:\n",
    "    print(\"in-Correct\")"
   ]
  },
  {
   "cell_type": "code",
   "execution_count": 10,
   "id": "90299564",
   "metadata": {},
   "outputs": [
    {
     "name": "stdout",
     "output_type": "stream",
     "text": [
      "Enter data to test:123\n",
      "Correct\n"
     ]
    }
   ],
   "source": [
    "userinput=input(\"Enter data to test:\")\n",
    "p='\\w'\n",
    "if re.search(p,userinput):\n",
    "    print(\"Correct\")\n",
    "else:\n",
    "    print(\"in-Correct\")"
   ]
  },
  {
   "cell_type": "code",
   "execution_count": 12,
   "id": "1db81344",
   "metadata": {},
   "outputs": [
    {
     "name": "stdout",
     "output_type": "stream",
     "text": [
      "Enter data to test:123\n",
      "in-Correct\n"
     ]
    }
   ],
   "source": [
    "userinput=input(\"Enter data to test:\")\n",
    "p='\\W'\n",
    "if re.search(p,userinput):\n",
    "    print(\"Correct\")\n",
    "else:\n",
    "    print(\"in-Correct\")"
   ]
  },
  {
   "cell_type": "code",
   "execution_count": 13,
   "id": "707a25a2",
   "metadata": {},
   "outputs": [
    {
     "name": "stdout",
     "output_type": "stream",
     "text": [
      "Enter data to test:dftrbhg\n",
      "in-Correct\n"
     ]
    }
   ],
   "source": [
    "userinput=input(\"Enter data to test:\")\n",
    "p='\\s'\n",
    "if re.search(p,userinput):\n",
    "    print(\"Correct\")\n",
    "else:\n",
    "    print(\"in-Correct\")"
   ]
  },
  {
   "cell_type": "code",
   "execution_count": 14,
   "id": "a474dcfe",
   "metadata": {},
   "outputs": [
    {
     "name": "stdout",
     "output_type": "stream",
     "text": [
      "Enter data to test:rgwgfd\n",
      "Correct\n"
     ]
    }
   ],
   "source": [
    "userinput=input(\"Enter data to test:\")\n",
    "p='\\S'\n",
    "if re.search(p,userinput):\n",
    "    print(\"Correct\")\n",
    "else:\n",
    "    print(\"in-Correct\")"
   ]
  },
  {
   "cell_type": "code",
   "execution_count": 18,
   "id": "4c48ac0e",
   "metadata": {},
   "outputs": [
    {
     "name": "stdout",
     "output_type": "stream",
     "text": [
      "Enter data to test:56464635464656\n",
      "Correct\n"
     ]
    }
   ],
   "source": [
    "userinput=input(\"Enter data to test:\")\n",
    "p='\\d{10}'\n",
    "if re.search(p,userinput):\n",
    "    print(\"Correct\")\n",
    "else:\n",
    "    print(\"in-Correct\")"
   ]
  },
  {
   "cell_type": "code",
   "execution_count": 26,
   "id": "a98ecc5e",
   "metadata": {},
   "outputs": [
    {
     "name": "stdout",
     "output_type": "stream",
     "text": [
      "Enter data to test:10swP\n",
      "in-Correct\n"
     ]
    }
   ],
   "source": [
    "userinput=input(\"Enter data to test:\")\n",
    "p='^[/dA-Z]$'\n",
    "if re.search(p,userinput):\n",
    "    print(\"Correct\")\n",
    "else:\n",
    "    print(\"in-Correct\")"
   ]
  },
  {
   "cell_type": "code",
   "execution_count": 28,
   "id": "494d58f2",
   "metadata": {},
   "outputs": [],
   "source": [
    "log='''192.168.198.92 - - [23/Dec/2002:23:08:37 -0400] \"GET \n",
    "   / HTTP/1.1\" 200 6394 www.yahoo.com \n",
    "   \"-\" \"Mozilla/4.0 (compatible; MSIE 6.0; Windows NT 5.1...)\" \"-\"\n",
    "192.168.198.92 - - [22/Jan/2012:23:08:38 -0400] \"GET \n",
    "   /images/logo.gif HTTP/1.1\" 200 807 www.yahoo.com \n",
    "   \"http://www.some.com/\" \"Mozilla/4.0 (compatible; MSIE 6...)\" \"-\"\n",
    "132.168.72.177 - - [23/Mar/2002:23:32:14 -0400] \"GET \n",
    "   /news/sports.html HTTP/1.1\" 200 3500 www.yahoo.com \n",
    "   \"http://www.some.com/\" \"Mozilla/4.0 (compatible; MSIE ...)\" \"-\"\n",
    "19.190.72.177 - - [12/Dec/2002:23:32:14 -0400] \"GET \n",
    "   /favicon.ico HTTP/1.1\" 404 1997 www.yahoo.com \n",
    "   \"-\" \"Mozilla/5.0 (Windows; U; Windows NT 5.1; rv:1.7.3)...\" \"-\"\n",
    "192.177.72.177 - - [1/Apr/2002:23:32:15 -0400] \"GET \n",
    "   /style.css HTTP/1.1\" 200 4138 www.yahoo.com \n",
    "   \"http://www.yahoo.com/index.html\" \"Mozilla/5.0 (Windows...\" \"-\"\n",
    "192.168.72.177 - - [22/Dec/2002:23:32:16 -0400] \"GET \n",
    "   /js/ads.js HTTP/1.1\" 200 10229 www.yahoo.com \n",
    "   \"http://www.search.com/index.html\" \"Mozilla/5.0 (Windows...\" \"-\"\n",
    "192.168.72.177 - - [22/Dec/2002:23:32:19 -0400] \"GET \n",
    "   /search.php HTTP/1.1\" 400 1997 www.yahoo.com \n",
    "   \"-\" \"Mozilla/4.0 (compatible; MSIE 6.0; Windows NT 5.1; ...)\" \"-\"'''"
   ]
  },
  {
   "cell_type": "code",
   "execution_count": 31,
   "id": "b8974777",
   "metadata": {},
   "outputs": [
    {
     "name": "stdout",
     "output_type": "stream",
     "text": [
      "['2002', '0400', '6394', '2012', '0400', '2002', '0400', '3500', '2002', '0400', '1997', '2002', '0400', '4138', '2002', '0400', '1022', '2002', '0400', '1997']\n"
     ]
    }
   ],
   "source": [
    "p=\"[\\d]{4}\"\n",
    "l1=re.findall(p,log)\n",
    "print(l1)"
   ]
  },
  {
   "cell_type": "code",
   "execution_count": 36,
   "id": "36e726c5",
   "metadata": {},
   "outputs": [
    {
     "name": "stdout",
     "output_type": "stream",
     "text": [
      "['-', '-', '-', '-', '-', '-', '-', '-', '-', '-', '-', '-', '-', '-', '-', '-', '-', '-', '-', '-', '-', '-', '-', '-', '-', '-', '-', '-', '-', '-', '-']\n"
     ]
    }
   ],
   "source": [
    "p=\"[\\--]\"\n",
    "l2=re.findall(p,log)\n",
    "print(l2)"
   ]
  },
  {
   "cell_type": "code",
   "execution_count": 37,
   "id": "52e2caf2",
   "metadata": {},
   "outputs": [
    {
     "name": "stdout",
     "output_type": "stream",
     "text": [
      "['http://www.some.com', 'http://www.some.com', 'http://www.yahoo.com', 'http://www.search.com']\n"
     ]
    }
   ],
   "source": [
    "p=\"\\d+\\.\\d+\\.\\d+\\.\\d+\"\n",
    "pdate=\"\\d+/\\w{3}/\\d+\"\n",
    "pwebsite=\"\\w{4}\\:+\\/\\/+\\w{3}\\.+\\w*\\.+\\w*\"\n",
    "list=re.findall(pwebsite,log)\n",
    "print(list)\n"
   ]
  },
  {
   "cell_type": "code",
   "execution_count": null,
   "id": "7e1391ad",
   "metadata": {},
   "outputs": [],
   "source": []
  }
 ],
 "metadata": {
  "kernelspec": {
   "display_name": "Python 3 (ipykernel)",
   "language": "python",
   "name": "python3"
  },
  "language_info": {
   "codemirror_mode": {
    "name": "ipython",
    "version": 3
   },
   "file_extension": ".py",
   "mimetype": "text/x-python",
   "name": "python",
   "nbconvert_exporter": "python",
   "pygments_lexer": "ipython3",
   "version": "3.9.7"
  }
 },
 "nbformat": 4,
 "nbformat_minor": 5
}
