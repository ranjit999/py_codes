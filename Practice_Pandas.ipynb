{
 "cells": [
  {
   "cell_type": "markdown",
   "id": "2ad22874",
   "metadata": {},
   "source": [
    "Write a Pandas program to get the powers of an array values element-wise. Go to the editor\n",
    "Note: First array elements raised to powers from second array\n",
    "Sample data: {'X':[78,85,96,80,86], 'Y':[84,94,89,83,86],'Z':[86,97,96,72,83]}\n",
    "Expected Output:"
   ]
  },
  {
   "cell_type": "code",
   "execution_count": 5,
   "id": "d48286ea",
   "metadata": {},
   "outputs": [
    {
     "name": "stdout",
     "output_type": "stream",
     "text": [
      "    X   Y   Z\n",
      "0  78  84  86\n",
      "1  85  94  97\n",
      "2  96  89  96\n",
      "3  80  83  72\n",
      "4  86  86  83\n"
     ]
    }
   ],
   "source": [
    "import pandas as pd\n",
    "ds=pd.DataFrame({'X':[78,85,96,80,86],'Y':[84,94,89,83,86],'Z':[86,97,96,72,83]} )\n",
    "print(ds)"
   ]
  },
  {
   "cell_type": "markdown",
   "id": "7b652ced",
   "metadata": {},
   "source": [
    "Write a Pandas program to create and display a DataFrame from a specified dictionary data which has the index labels. Go to the editor\n",
    "Sample Python dictionary data and list labels:\n",
    "exam_data = {'name': ['Anastasia', 'Dima', 'Katherine', 'James', 'Emily', 'Michael', 'Matthew', 'Laura', 'Kevin', 'Jonas'],\n",
    "'score': [12.5, 9, 16.5, np.nan, 9, 20, 14.5, np.nan, 8, 19],\n",
    "'attempts': [1, 3, 2, 3, 2, 3, 1, 1, 2, 1],\n",
    "'qualify': ['yes', 'no', 'yes', 'no', 'no', 'yes', 'yes', 'no', 'no', 'yes']}\n",
    "labels = ['a', 'b', 'c', 'd', 'e', 'f', 'g', 'h', 'i', 'j']\n",
    "Expected Output:\n",
    "attempts name qualify score\n",
    "a 1 Anastasia yes 12.5\n",
    "b 3 Dima no 9.0\n",
    ".... i 2 Kevin no 8.0\n",
    "j 1 Jonas yes 19.0"
   ]
  },
  {
   "cell_type": "code",
   "execution_count": 10,
   "id": "84510eba",
   "metadata": {},
   "outputs": [
    {
     "name": "stdout",
     "output_type": "stream",
     "text": [
      "   attempts       name qualify  scores\n",
      "a         1  Anastasia     yes    12.5\n",
      "b         3       Dima      no     9.0\n",
      "c         2  Katherine     yes    16.5\n",
      "d         3      James      no     NaN\n",
      "e         2      Emily      no     9.0\n",
      "f         3    Michael     yes    20.0\n",
      "g         1    Matthew     yes    14.5\n",
      "h         1      Laura      no     NaN\n",
      "i         2      Kevin      no     8.0\n",
      "j         1      Jonas     yes    19.0\n"
     ]
    }
   ],
   "source": [
    "import pandas as pd\n",
    "import numpy as np\n",
    "stu_data = ({\"attempts\":[1, 3, 2, 3, 2, 3, 1, 1, 2, 1],\"name\":['Anastasia', 'Dima', 'Katherine', 'James', 'Emily', 'Michael', 'Matthew', 'Laura', 'Kevin', 'Jonas'],\"qualify\":['yes', 'no', 'yes', 'no', 'no', 'yes', 'yes', 'no', 'no', 'yes'],\"scores\":[12.5, 9, 16.5, np.nan, 9, 20, 14.5, np.nan, 8, 19]})\n",
    "labels = ['a', 'b', 'c', 'd', 'e', 'f', 'g', 'h', 'i', 'j']\n",
    "df=pd.DataFrame(stu_data,index=labels)\n",
    "print(df)\n"
   ]
  },
  {
   "cell_type": "markdown",
   "id": "1943ab87",
   "metadata": {},
   "source": [
    "Write a Pandas program to display a summary of the basic information about a specified DataFrame and its data. Go to the editor\n",
    "Sample Python dictionary data and list labels:\n",
    "exam_data = {'name': ['Anastasia', 'Dima', 'Katherine', 'James', 'Emily', 'Michael', 'Matthew', 'Laura', 'Kevin', 'Jonas'],\n",
    "'score': [12.5, 9, 16.5, np.nan, 9, 20, 14.5, np.nan, 8, 19],\n",
    "'attempts': [1, 3, 2, 3, 2, 3, 1, 1, 2, 1],\n",
    "'qualify': ['yes', 'no', 'yes', 'no', 'no', 'yes', 'yes', 'no', 'no', 'yes']}\n",
    "labels = ['a', 'b', 'c', 'd', 'e', 'f', 'g', 'h', 'i', 'j']\n",
    "Expected Output:\n",
    "Summary of the basic information about this DataFrame and its data:\n",
    "<class 'pandas.core.frame.DataFrame'>\n",
    "Index: 10 entries, a to j\n",
    "Data columns (total 4 columns):\n",
    ".... dtypes: float64(1), int64(1), object(2)\n",
    "memory usage: 400.0+ bytes\n",
    "None"
   ]
  },
  {
   "cell_type": "code",
   "execution_count": 11,
   "id": "883a7009",
   "metadata": {},
   "outputs": [
    {
     "name": "stdout",
     "output_type": "stream",
     "text": [
      "<class 'pandas.core.frame.DataFrame'>\n",
      "Index: 10 entries, a to j\n",
      "Data columns (total 4 columns):\n",
      " #   Column    Non-Null Count  Dtype  \n",
      "---  ------    --------------  -----  \n",
      " 0   attempts  10 non-null     int64  \n",
      " 1   name      10 non-null     object \n",
      " 2   qualify   10 non-null     object \n",
      " 3   scores    8 non-null      float64\n",
      "dtypes: float64(1), int64(1), object(2)\n",
      "memory usage: 400.0+ bytes\n",
      "None\n"
     ]
    }
   ],
   "source": [
    "import pandas as pd\n",
    "import numpy as np\n",
    "stu_data = ({\"attempts\":[1, 3, 2, 3, 2, 3, 1, 1, 2, 1],\"name\":['Anastasia', 'Dima', 'Katherine', 'James', 'Emily', 'Michael', 'Matthew', 'Laura', 'Kevin', 'Jonas'],\"qualify\":['yes', 'no', 'yes', 'no', 'no', 'yes', 'yes', 'no', 'no', 'yes'],\"scores\":[12.5, 9, 16.5, np.nan, 9, 20, 14.5, np.nan, 8, 19]})\n",
    "labels = ['a', 'b', 'c', 'd', 'e', 'f', 'g', 'h', 'i', 'j']\n",
    "df=pd.DataFrame(stu_data,index=labels)\n",
    "print(df.info())\n"
   ]
  },
  {
   "cell_type": "markdown",
   "id": "387f155c",
   "metadata": {},
   "source": [
    "Write a Pandas program to get the first 3 rows of a given DataFrame. Go to the editor\n",
    "Sample Python dictionary data and list labels:\n",
    "exam_data = {'name': ['Anastasia', 'Dima', 'Katherine', 'James', 'Emily', 'Michael', 'Matthew', 'Laura', 'Kevin', 'Jonas'],\n",
    "'score': [12.5, 9, 16.5, np.nan, 9, 20, 14.5, np.nan, 8, 19],\n",
    "'attempts': [1, 3, 2, 3, 2, 3, 1, 1, 2, 1],\n",
    "'qualify': ['yes', 'no', 'yes', 'no', 'no', 'yes', 'yes', 'no', 'no', 'yes']}\n",
    "labels = ['a', 'b', 'c', 'd', 'e', 'f', 'g', 'h', 'i', 'j']\n",
    "Expected Output:\n",
    "First three rows of the data frame:\n",
    "attempts name qualify score\n",
    "a 1 Anastasia yes 12.5\n",
    "b 3 Dima no 9.0\n",
    "c 2 Katherine yes 16.5"
   ]
  },
  {
   "cell_type": "code",
   "execution_count": 14,
   "id": "67f35cdd",
   "metadata": {},
   "outputs": [
    {
     "name": "stdout",
     "output_type": "stream",
     "text": [
      "   attempts       name qualify  scores\n",
      "a         1  Anastasia     yes    12.5\n",
      "b         3       Dima      no     9.0\n",
      "c         2  Katherine     yes    16.5\n"
     ]
    }
   ],
   "source": [
    "import pandas as pd\n",
    "import numpy as np\n",
    "stu_data = ({\"attempts\":[1, 3, 2, 3, 2, 3, 1, 1, 2, 1],\"name\":['Anastasia', 'Dima', 'Katherine', 'James', 'Emily', 'Michael', 'Matthew', 'Laura', 'Kevin', 'Jonas'],\"qualify\":['yes', 'no', 'yes', 'no', 'no', 'yes', 'yes', 'no', 'no', 'yes'],\"scores\":[12.5, 9, 16.5, np.nan, 9, 20, 14.5, np.nan, 8, 19]})\n",
    "labels = ['a', 'b', 'c', 'd', 'e', 'f', 'g', 'h', 'i', 'j']\n",
    "df=pd.DataFrame(stu_data,index=labels)\n",
    "print(df[0:3])\n"
   ]
  },
  {
   "cell_type": "markdown",
   "id": "ae22a0f0",
   "metadata": {},
   "source": [
    "Write a Pandas program to select the 'name' and 'score' columns from the following DataFrame. Go to the editor\n",
    "Sample Python dictionary data and list labels:\n",
    "exam_data = {'name': ['Anastasia', 'Dima', 'Katherine', 'James', 'Emily', 'Michael', 'Matthew', 'Laura', 'Kevin', 'Jonas'],\n",
    "'score': [12.5, 9, 16.5, np.nan, 9, 20, 14.5, np.nan, 8, 19],\n",
    "'attempts': [1, 3, 2, 3, 2, 3, 1, 1, 2, 1],\n",
    "'qualify': ['yes', 'no', 'yes', 'no', 'no', 'yes', 'yes', 'no', 'no', 'yes']}\n",
    "labels = ['a', 'b', 'c', 'd', 'e', 'f', 'g', 'h', 'i', 'j']\n",
    "Expected Output:\n",
    "Select specific columns:\n",
    "name score\n",
    "a Anastasia 12.5\n",
    "b Dima 9.0\n",
    "c Katherine 16.5\n",
    "... h Laura NaN\n",
    "i Kevin 8.0\n",
    "j Jonas 19.0"
   ]
  },
  {
   "cell_type": "code",
   "execution_count": 31,
   "id": "e6cf4e71",
   "metadata": {},
   "outputs": [
    {
     "name": "stdout",
     "output_type": "stream",
     "text": [
      "        name  attempts\n",
      "a  Anastasia         1\n",
      "b       Dima         3\n",
      "c  Katherine         2\n",
      "d      James         3\n",
      "e      Emily         2\n",
      "f    Michael         3\n",
      "g    Matthew         1\n",
      "h      Laura         1\n",
      "i      Kevin         2\n",
      "j      Jonas         1\n",
      "Select specific columns and rows:\n",
      "      name qualify\n",
      "b     Dima      no\n",
      "d    James      no\n",
      "f  Michael     yes\n",
      "g  Matthew     yes\n"
     ]
    }
   ],
   "source": [
    "import pandas as pd\n",
    "import numpy as np\n",
    "stu_data = ({\"attempts\":[1, 3, 2, 3, 2, 3, 1, 1, 2, 1],\"name\":['Anastasia', 'Dima', 'Katherine', 'James', 'Emily', 'Michael', 'Matthew', 'Laura', 'Kevin', 'Jonas'],\"qualify\":['yes', 'no', 'yes', 'no', 'no', 'yes', 'yes', 'no', 'no', 'yes'],\"scores\":[12.5, 9, 16.5, np.nan, 9, 20, 14.5, np.nan, 8, 19]})\n",
    "labels = ['a', 'b', 'c', 'd', 'e', 'f', 'g', 'h', 'i', 'j']\n",
    "df=pd.DataFrame(stu_data,index=labels)\n",
    "print(df[[\"name\",\"attempts\"]])\n",
    "\n",
    "print(\"Select specific columns and rows:\")\n",
    "print(df.iloc[[1, 3, 5, 6], [1, 2]])\n"
   ]
  },
  {
   "cell_type": "markdown",
   "id": "4a16d441",
   "metadata": {},
   "source": [
    " Write a Pandas program to select the rows where the number of attempts in the examination is greater than 2. Go to the editor\n",
    "Sample Python dictionary data and list labels:\n",
    "exam_data = {'name': ['Anastasia', 'Dima', 'Katherine', 'James', 'Emily', 'Michael', 'Matthew', 'Laura', 'Kevin', 'Jonas'],\n",
    "'score': [12.5, 9, 16.5, np.nan, 9, 20, 14.5, np.nan, 8, 19],\n",
    "'attempts': [1, 3, 2, 3, 2, 3, 1, 1, 2, 1],\n",
    "'qualify': ['yes', 'no', 'yes', 'no', 'no', 'yes', 'yes', 'no', 'no', 'yes']}\n",
    "labels = ['a', 'b', 'c', 'd', 'e', 'f', 'g', 'h', 'i', 'j']\n",
    "Expected Output:\n",
    "Number of attempts in the examination is greater than 2:\n",
    "name score attempts qualify\n",
    "b Dima 9.0 3 no\n",
    "d James NaN 3 no\n",
    "f Michael 20.0 3 yes"
   ]
  },
  {
   "cell_type": "code",
   "execution_count": 34,
   "id": "ba70b8dc",
   "metadata": {},
   "outputs": [
    {
     "name": "stdout",
     "output_type": "stream",
     "text": [
      "   attempts     name qualify  scores\n",
      "b         3     Dima      no     9.0\n",
      "d         3    James      no     NaN\n",
      "f         3  Michael     yes    20.0\n"
     ]
    }
   ],
   "source": [
    "import pandas as pd\n",
    "import numpy as np\n",
    "stu_data = ({\"attempts\":[1, 3, 2, 3, 2, 3, 1, 1, 2, 1],\"name\":['Anastasia', 'Dima', 'Katherine', 'James', 'Emily', 'Michael', 'Matthew', 'Laura', 'Kevin', 'Jonas'],\"qualify\":['yes', 'no', 'yes', 'no', 'no', 'yes', 'yes', 'no', 'no', 'yes'],\"scores\":[12.5, 9, 16.5, np.nan, 9, 20, 14.5, np.nan, 8, 19]})\n",
    "labels = ['a', 'b', 'c', 'd', 'e', 'f', 'g', 'h', 'i', 'j']\n",
    "df=pd.DataFrame(stu_data,index=labels)\n",
    "print(df[df[\"attempts\"]>2])"
   ]
  },
  {
   "cell_type": "markdown",
   "id": "b66da8d2",
   "metadata": {},
   "source": [
    "Write a Pandas program to count the number of rows and columns of a DataFrame. Go to the editor\n",
    "Sample Python dictionary data and list labels:\n",
    "exam_data = {'name': ['Anastasia', 'Dima', 'Katherine', 'James', 'Emily', 'Michael', 'Matthew', 'Laura', 'Kevin', 'Jonas'],\n",
    "'score': [12.5, 9, 16.5, np.nan, 9, 20, 14.5, np.nan, 8, 19],\n",
    "'attempts': [1, 3, 2, 3, 2, 3, 1, 1, 2, 1],\n",
    "'qualify': ['yes', 'no', 'yes', 'no', 'no', 'yes', 'yes', 'no', 'no', 'yes']}\n",
    "labels = ['a', 'b', 'c', 'd', 'e', 'f', 'g', 'h', 'i', 'j']\n",
    "Expected Output:\n",
    "Number of Rows: 10\n",
    "Number of Columns: 4"
   ]
  },
  {
   "cell_type": "code",
   "execution_count": 38,
   "id": "b30184cc",
   "metadata": {},
   "outputs": [
    {
     "name": "stdout",
     "output_type": "stream",
     "text": [
      "Number of Rows:  10\n",
      "Number of Columns: 4\n"
     ]
    }
   ],
   "source": [
    "import pandas as pd\n",
    "import numpy as np\n",
    "stu_data = ({\"attempts\":[1, 3, 2, 3, 2, 3, 1, 1, 2, 1],\"name\":['Anastasia', 'Dima', 'Katherine', 'James', 'Emily', 'Michael', 'Matthew', 'Laura', 'Kevin', 'Jonas'],\"qualify\":['yes', 'no', 'yes', 'no', 'no', 'yes', 'yes', 'no', 'no', 'yes'],\"scores\":[12.5, 9, 16.5, np.nan, 9, 20, 14.5, np.nan, 8, 19]})\n",
    "labels = ['a', 'b', 'c', 'd', 'e', 'f', 'g', 'h', 'i', 'j']\n",
    "df=pd.DataFrame(stu_data,index=labels)\n",
    "total_rows=len(df.axes[0])\n",
    "total_cols=len(df.axes[1])\n",
    "print(\"Number of Rows: \",str(total_rows))\n",
    "print(\"Number of Columns: \"+str(total_cols))"
   ]
  },
  {
   "cell_type": "markdown",
   "id": "f21427c5",
   "metadata": {},
   "source": [
    "Write a Pandas program to select the rows where the score is missing, i.e. is NaN. Go to the editor\n",
    "Sample Python dictionary data and list labels:\n",
    "exam_data = {'name': ['Anastasia', 'Dima', 'Katherine', 'James', 'Emily', 'Michael', 'Matthew', 'Laura', 'Kevin', 'Jonas'],\n",
    "'score': [12.5, 9, 16.5, np.nan, 9, 20, 14.5, np.nan, 8, 19],\n",
    "'attempts': [1, 3, 2, 3, 2, 3, 1, 1, 2, 1],\n",
    "'qualify': ['yes', 'no', 'yes', 'no', 'no', 'yes', 'yes', 'no', 'no', 'yes']}\n",
    "labels = ['a', 'b', 'c', 'd', 'e', 'f', 'g', labels = ['a', 'b', 'c', 'd', 'e', 'f', 'g', 'h', 'i', 'j']\n",
    "Expected Output:\n",
    "Rows where score is missing:\n",
    "attempts name qualify score\n",
    "d 3 James no NaN\n",
    "h 1 Laura no NaN"
   ]
  },
  {
   "cell_type": "code",
   "execution_count": 43,
   "id": "1aa6155f",
   "metadata": {},
   "outputs": [
    {
     "name": "stdout",
     "output_type": "stream",
     "text": [
      "   attempts   name qualify  scores\n",
      "d         3  James      no     NaN\n",
      "h         1  Laura      no     NaN\n"
     ]
    }
   ],
   "source": [
    "import pandas as pd\n",
    "import numpy as np\n",
    "stu_data = ({\"attempts\":[1, 3, 2, 3, 2, 3, 1, 1, 2, 1],\"name\":['Anastasia', 'Dima', 'Katherine', 'James', 'Emily', 'Michael', 'Matthew', 'Laura', 'Kevin', 'Jonas'],\"qualify\":['yes', 'no', 'yes', 'no', 'no', 'yes', 'yes', 'no', 'no', 'yes'],\"scores\":[12.5, 9, 16.5, np.nan, 9, 20, 14.5, np.nan, 8, 19]})\n",
    "labels = ['a', 'b', 'c', 'd', 'e', 'f', 'g', 'h', 'i', 'j']\n",
    "df=pd.DataFrame(stu_data,index=labels)\n",
    "print(df[df[\"scores\"].isnull()])"
   ]
  },
  {
   "cell_type": "markdown",
   "id": "c21629f9",
   "metadata": {},
   "source": [
    "Write a Pandas program to select the rows the score is between 15 and 20 (inclusive). Go to the editor\n",
    "Sample Python dictionary data and list labels:\n",
    "exam_data = {'name': ['Anastasia', 'Dima', 'Katherine', 'James', 'Emily', 'Michael', 'Matthew', 'Laura', 'Kevin', 'Jonas'],\n",
    "'score': [12.5, 9, 16.5, np.nan, 9, 20, 14.5, np.nan, 8, 19],\n",
    "'attempts': [1, 3, 2, 3, 2, 3, 1, 1, 2, 1],\n",
    "'qualify': ['yes', 'no', 'yes', 'no', 'no', 'yes', 'yes', 'no', 'no', 'yes']}\n",
    "labels = ['a', 'b', 'c', 'd', 'e', 'f', 'g', labels = ['a', 'b', 'c', 'd', 'e', 'f', 'g', 'h', 'i', 'j']\n",
    "Expected Output:\n",
    "Rows where score between 15 and 20 (inclusive):\n",
    "attempts name qualify score\n",
    "c 2 Katherine yes 16.5\n",
    "f 3 Michael yes 20.0\n",
    "j 1 Jonas yes 19.0"
   ]
  },
  {
   "cell_type": "code",
   "execution_count": 46,
   "id": "3fd880d2",
   "metadata": {},
   "outputs": [
    {
     "name": "stdout",
     "output_type": "stream",
     "text": [
      "   attempts       name qualify  scores\n",
      "c         2  Katherine     yes    16.5\n",
      "f         3    Michael     yes    20.0\n",
      "j         1      Jonas     yes    19.0\n"
     ]
    }
   ],
   "source": [
    "import pandas as pd\n",
    "import numpy as np\n",
    "stu_data = ({\"attempts\":[1, 3, 2, 3, 2, 3, 1, 1, 2, 1],\"name\":['Anastasia', 'Dima', 'Katherine', 'James', 'Emily', 'Michael', 'Matthew', 'Laura', 'Kevin', 'Jonas'],\"qualify\":['yes', 'no', 'yes', 'no', 'no', 'yes', 'yes', 'no', 'no', 'yes'],\"scores\":[12.5, 9, 16.5, np.nan, 9, 20, 14.5, np.nan, 8, 19]})\n",
    "labels = ['a', 'b', 'c', 'd', 'e', 'f', 'g', 'h', 'i', 'j']\n",
    "df=pd.DataFrame(stu_data,index=labels)\n",
    "print(df[df['scores'].between(15, 20)])"
   ]
  },
  {
   "cell_type": "markdown",
   "id": "bd034781",
   "metadata": {},
   "source": [
    "Write a Pandas program to select the rows where number of attempts in the examination is less than 2 and score greater than 15. Go to the editor\n",
    "Sample Python dictionary data and list labels:\n",
    "exam_data = {'name': ['Anastasia', 'Dima', 'Katherine', 'James', 'Emily', 'Michael', 'Matthew', 'Laura', 'Kevin', 'Jonas'],\n",
    "'score': [12.5, 9, 16.5, np.nan, 9, 20, 14.5, np.nan, 8, 19],\n",
    "'attempts': [1, 3, 2, 3, 2, 3, 1, 1, 2, 1],\n",
    "'qualify': ['yes', 'no', 'yes', 'no', 'no', 'yes', 'yes', 'no', 'no', 'yes']}\n",
    "labels = ['a', 'b', 'c', 'd', 'e', 'f', 'g', labels = ['a', 'b', 'c', 'd', 'e', 'f', 'g', 'h', 'i', 'j']\n",
    "Expected Output:\n",
    "Number of attempts in the examination is less than 2 and score greater than 15 :\n",
    "name score attempts qualify\n",
    "j Jonas 19.0 1 yes"
   ]
  },
  {
   "cell_type": "code",
   "execution_count": 50,
   "id": "aede400a",
   "metadata": {},
   "outputs": [
    {
     "name": "stdout",
     "output_type": "stream",
     "text": [
      "   attempts   name qualify  scores\n",
      "j         1  Jonas     yes    19.0\n"
     ]
    }
   ],
   "source": [
    "import pandas as pd\n",
    "import numpy as np\n",
    "stu_data = ({\"attempts\":[1, 3, 2, 3, 2, 3, 1, 1, 2, 1],\"name\":['Anastasia', 'Dima', 'Katherine', 'James', 'Emily', 'Michael', 'Matthew', 'Laura', 'Kevin', 'Jonas'],\"qualify\":['yes', 'no', 'yes', 'no', 'no', 'yes', 'yes', 'no', 'no', 'yes'],\"scores\":[12.5, 9, 16.5, np.nan, 9, 20, 14.5, np.nan, 8, 19]})\n",
    "labels = ['a', 'b', 'c', 'd', 'e', 'f', 'g', 'h', 'i', 'j']\n",
    "df=pd.DataFrame(stu_data,index=labels)\n",
    "print(df[(df[\"attempts\"]<2) & (df[\"scores\"]>15)])"
   ]
  },
  {
   "cell_type": "markdown",
   "id": "8f0f3655",
   "metadata": {},
   "source": [
    "Write a Pandas program to change the score in row 'd' to 11.5. Go to the editor\n",
    "Sample Python dictionary data and list labels:\n",
    "exam_data = {'name': ['Anastasia', 'Dima', 'Katherine', 'James', 'Emily', 'Michael', 'Matthew', 'Laura', 'Kevin', 'Jonas'],\n",
    "'score': [12.5, 9, 16.5, np.nan, 9, 20, 14.5, np.nan, 8, 19],\n",
    "'attempts': [1, 3, 2, 3, 2, 3, 1, 1, 2, 1],\n",
    "'qualify': ['yes', 'no', 'yes', 'no', 'no', 'yes', 'yes', 'no', 'no', 'yes']}\n",
    "labels = ['a', 'b', 'c', 'd', 'e', 'f', 'g', 'h', 'i', 'j']\n",
    "Expected Output:\n",
    "Change the score in row 'd' to 11.5:\n",
    "attempts name qualify score\n",
    "a 1 Anastasia yes 12.5\n",
    "b 3 Dima no 9.0\n",
    "c 2 Katherine yes 16.5\n",
    "...\n",
    "i 2 Kevin no 8.0\n",
    "j 1 Jonas yes 19.0"
   ]
  },
  {
   "cell_type": "code",
   "execution_count": null,
   "id": "bd7abbcd",
   "metadata": {},
   "outputs": [],
   "source": [
    "import pandas as pd\n",
    "import numpy as np\n",
    "stu_data = ({\"attempts\":[1, 3, 2, 3, 2, 3, 1, 1, 2, 1],\"name\":['Anastasia', 'Dima', 'Katherine', 'James', 'Emily', 'Michael', 'Matthew', 'Laura', 'Kevin', 'Jonas'],\"qualify\":['yes', 'no', 'yes', 'no', 'no', 'yes', 'yes', 'no', 'no', 'yes'],\"scores\":[12.5, 9, 16.5, np.nan, 9, 20, 14.5, np.nan, 8, 19]})\n",
    "labels = ['a', 'b', 'c', 'd', 'e', 'f', 'g', 'h', 'i', 'j']\n",
    "df=pd.DataFrame(stu_data,index=labels)\n"
   ]
  }
 ],
 "metadata": {
  "kernelspec": {
   "display_name": "Python 3 (ipykernel)",
   "language": "python",
   "name": "python3"
  },
  "language_info": {
   "codemirror_mode": {
    "name": "ipython",
    "version": 3
   },
   "file_extension": ".py",
   "mimetype": "text/x-python",
   "name": "python",
   "nbconvert_exporter": "python",
   "pygments_lexer": "ipython3",
   "version": "3.9.7"
  }
 },
 "nbformat": 4,
 "nbformat_minor": 5
}
